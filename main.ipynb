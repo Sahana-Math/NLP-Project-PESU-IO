{
 "cells": [
  {
   "cell_type": "code",
   "execution_count": 19,
   "metadata": {},
   "outputs": [],
   "source": [
    "from transformers import pipeline\n",
    "from transformers import AutoTokenizer, AutoModelForSeq2SeqLM"
   ]
  },
  {
   "cell_type": "code",
   "execution_count": 20,
   "metadata": {},
   "outputs": [],
   "source": [
    "tokenizer = AutoTokenizer.from_pretrained(\"t5-base\")\n",
    "model = AutoModelForSeq2SeqLM.from_pretrained(\"t5-base\")"
   ]
  },
  {
   "cell_type": "code",
   "execution_count": 21,
   "metadata": {},
   "outputs": [],
   "source": [
    "HuggingFace_summarizer = pipeline(\"summarization\", model=\"t5-base\", tokenizer=tokenizer)"
   ]
  },
  {
   "cell_type": "code",
   "execution_count": 22,
   "metadata": {},
   "outputs": [],
   "source": [
    "train_judgements = \"/Users/vishals/Developer/Demo NLP/dataset/IN-Abs/train-data/judgement\"\n",
    "train_summary = \"/Users/vishals/Developer/Demo NLP/dataset/IN-Abs/train-data/summary\""
   ]
  },
  {
   "cell_type": "code",
   "execution_count": 23,
   "metadata": {},
   "outputs": [],
   "source": [
    "train_input_text = list() #contains texts of the judgement files\n",
    "train_target_text = list() #contains text of the summary files "
   ]
  },
  {
   "cell_type": "code",
   "execution_count": 24,
   "metadata": {},
   "outputs": [],
   "source": [
    "import os"
   ]
  },
  {
   "cell_type": "code",
   "execution_count": 25,
   "metadata": {},
   "outputs": [],
   "source": [
    "train_input_texts = []\n",
    "train_target_texts = []\n",
    "for filename in os.listdir(train_judgements):\n",
    "    with open(os.path.join(train_judgements, filename), \"r\") as f:\n",
    "        train_input_texts.append(f.read().strip())\n",
    "    with open(os.path.join(train_summary, filename), \"r\") as f:\n",
    "        train_target_texts.append(f.read().strip())\n"
   ]
  },
  {
   "cell_type": "code",
   "execution_count": 26,
   "metadata": {},
   "outputs": [],
   "source": [
    "train_input_encodings = tokenizer(train_input_texts, padding=True, truncation=True, max_length=512)\n",
    "train_target_encodings = tokenizer(train_target_texts, padding=True, truncation=True, max_length=128)"
   ]
  }
 ],
 "metadata": {
  "kernelspec": {
   "display_name": "base",
   "language": "python",
   "name": "python3"
  },
  "language_info": {
   "codemirror_mode": {
    "name": "ipython",
    "version": 3
   },
   "file_extension": ".py",
   "mimetype": "text/x-python",
   "name": "python",
   "nbconvert_exporter": "python",
   "pygments_lexer": "ipython3",
   "version": "3.10.9"
  },
  "orig_nbformat": 4
 },
 "nbformat": 4,
 "nbformat_minor": 2
}
